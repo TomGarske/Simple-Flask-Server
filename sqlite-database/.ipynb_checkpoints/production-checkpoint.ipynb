{
 "cells": [
  {
   "cell_type": "markdown",
   "metadata": {},
   "source": [
    "# Table Creation Scripts"
   ]
  },
  {
   "cell_type": "code",
   "execution_count": 1,
   "metadata": {
    "collapsed": true
   },
   "outputs": [],
   "source": [
    "import sqlite3 as lite\n",
    "import sys"
   ]
  },
  {
   "cell_type": "code",
   "execution_count": 5,
   "metadata": {
    "collapsed": false
   },
   "outputs": [
    {
     "data": {
      "text/plain": [
       "u'Connected: None@csciApp.db'"
      ]
     },
     "execution_count": 5,
     "metadata": {},
     "output_type": "execute_result"
    }
   ],
   "source": [
    "%%capture\n",
    "%load_ext sql\n",
    "\n",
    "address = '127.0.0.1'\n",
    "user = 'myadmin'\n",
    "database = 'csciApp.db'\n",
    "\n",
    "%sql sqlite:///$database"
   ]
  },
  {
   "cell_type": "code",
   "execution_count": 3,
   "metadata": {
    "collapsed": false
   },
   "outputs": [
    {
     "name": "stdout",
     "output_type": "stream",
     "text": [
      "Done.\n"
     ]
    },
    {
     "data": {
      "text/html": [
       "<table>\n",
       "    <tr>\n",
       "        <th>name</th>\n",
       "        <th>rootpage</th>\n",
       "        <th>sql</th>\n",
       "    </tr>\n",
       "    <tr>\n",
       "        <td>sqlite_sequence</td>\n",
       "        <td>3</td>\n",
       "        <td>CREATE TABLE sqlite_sequence(name,seq)</td>\n",
       "    </tr>\n",
       "    <tr>\n",
       "        <td>baseline_dev</td>\n",
       "        <td>6</td>\n",
       "        <td>CREATE TABLE baseline_dev (xAxis REAL,yAxis REAL,zAxis REAL,timeStep REAL)</td>\n",
       "    </tr>\n",
       "    <tr>\n",
       "        <td>MotionData_temp</td>\n",
       "        <td>4</td>\n",
       "        <td>CREATE TABLE MotionData_temp (xAxis REAL,yAxis REAL,zAxis REAL,timeStep REAL)</td>\n",
       "    </tr>\n",
       "    <tr>\n",
       "        <td>MotionData_devHR</td>\n",
       "        <td>11</td>\n",
       "        <td>CREATE TABLE MotionData_devHR (xAxis REAL,yAxis REAL,zAxis REAL,timeStep REAL)</td>\n",
       "    </tr>\n",
       "    <tr>\n",
       "        <td>MotionData_dev</td>\n",
       "        <td>2</td>\n",
       "        <td>CREATE TABLE MotionData_dev (id INTEGER PRIMARY KEY AUTOINCREMENT, <br>                             xAxis REAL, <br>                             yAxis REAL, <br>                             zAxis REAL,<br>                             timeStep REAL)</td>\n",
       "    </tr>\n",
       "    <tr>\n",
       "        <td>MotionData_devBR</td>\n",
       "        <td>5</td>\n",
       "        <td>CREATE TABLE MotionData_devBR (xAxis REAL,yAxis REAL,zAxis REAL,timeStep REAL)</td>\n",
       "    </tr>\n",
       "</table>"
      ],
      "text/plain": [
       "[(u'sqlite_sequence', 3, u'CREATE TABLE sqlite_sequence(name,seq)'),\n",
       " (u'baseline_dev', 6, u'CREATE TABLE baseline_dev (xAxis REAL,yAxis REAL,zAxis REAL,timeStep REAL)'),\n",
       " (u'MotionData_temp', 4, u'CREATE TABLE MotionData_temp (xAxis REAL,yAxis REAL,zAxis REAL,timeStep REAL)'),\n",
       " (u'MotionData_devHR', 11, u'CREATE TABLE MotionData_devHR (xAxis REAL,yAxis REAL,zAxis REAL,timeStep REAL)'),\n",
       " (u'MotionData_dev', 2, u'CREATE TABLE MotionData_dev (id INTEGER PRIMARY KEY AUTOINCREMENT, \\n                             xAxis REAL, \\n                             yAxis REAL, \\n                             zAxis REAL,\\n                             timeStep REAL)'),\n",
       " (u'MotionData_devBR', 5, u'CREATE TABLE MotionData_devBR (xAxis REAL,yAxis REAL,zAxis REAL,timeStep REAL)')]"
      ]
     },
     "execution_count": 3,
     "metadata": {},
     "output_type": "execute_result"
    }
   ],
   "source": [
    "%sql SELECT name, rootpage, sql FROM sqlite_master WHERE type='table';"
   ]
  },
  {
   "cell_type": "code",
   "execution_count": null,
   "metadata": {
    "collapsed": true
   },
   "outputs": [],
   "source": [
    "### Create users table for simple registration"
   ]
  },
  {
   "cell_type": "code",
   "execution_count": 43,
   "metadata": {
    "collapsed": false
   },
   "outputs": [
    {
     "name": "stdout",
     "output_type": "stream",
     "text": [
      "Done.\n",
      "Done.\n",
      "CPU times: user 3.03 ms, sys: 1.93 ms, total: 4.96 ms\n",
      "Wall time: 5.28 ms\n"
     ]
    },
    {
     "data": {
      "text/plain": [
       "[]"
      ]
     },
     "execution_count": 43,
     "metadata": {},
     "output_type": "execute_result"
    }
   ],
   "source": [
    "%%time\n",
    "%%sql=\n",
    "DROP TABLE IF EXISTS users;\n",
    "CREATE TABLE users (id INTEGER PRIMARY KEY AUTOINCREMENT, title TEXT, description TEXT, done INTEGER);"
   ]
  },
  {
   "cell_type": "code",
   "execution_count": 23,
   "metadata": {
    "collapsed": false
   },
   "outputs": [
    {
     "name": "stdout",
     "output_type": "stream",
     "text": [
      "2 rows affected.\n"
     ]
    },
    {
     "data": {
      "text/plain": [
       "[]"
      ]
     },
     "execution_count": 23,
     "metadata": {},
     "output_type": "execute_result"
    }
   ],
   "source": [
    "%%sql \n",
    "INSERT INTO users (title, description, done)\n",
    "VALUES ('dbBuy groceries', 'Milk, Cheese, Pizza, Fruit, Tylenol', 0 ),\n",
    "       ('dbLearn Python', 'Need to find a good Python tutorial on the web', 0 );"
   ]
  },
  {
   "cell_type": "code",
   "execution_count": null,
   "metadata": {
    "collapsed": true
   },
   "outputs": [],
   "source": [
    "### create history table"
   ]
  },
  {
   "cell_type": "code",
   "execution_count": 6,
   "metadata": {
    "collapsed": false
   },
   "outputs": [
    {
     "name": "stdout",
     "output_type": "stream",
     "text": [
      "Done.\n",
      "Done.\n",
      "CPU times: user 3.25 ms, sys: 1.67 ms, total: 4.93 ms\n",
      "Wall time: 5.59 ms\n"
     ]
    },
    {
     "data": {
      "text/plain": [
       "[]"
      ]
     },
     "execution_count": 6,
     "metadata": {},
     "output_type": "execute_result"
    }
   ],
   "source": [
    "%%time\n",
    "%%sql\n",
    "DROP TABLE IF EXISTS history;\n",
    "CREATE TABLE history (id INTEGER PRIMARY KEY AUTOINCREMENT, \n",
    "                      user id, rateType TEXT, recordedValue REAL, recordedDatetime DATETIME);"
   ]
  },
  {
   "cell_type": "code",
   "execution_count": null,
   "metadata": {
    "collapsed": true
   },
   "outputs": [],
   "source": []
  }
 ],
 "metadata": {
  "anaconda-cloud": {},
  "kernelspec": {
   "display_name": "Python [Root]",
   "language": "python",
   "name": "Python [Root]"
  },
  "language_info": {
   "codemirror_mode": {
    "name": "ipython",
    "version": 2
   },
   "file_extension": ".py",
   "mimetype": "text/x-python",
   "name": "python",
   "nbconvert_exporter": "python",
   "pygments_lexer": "ipython2",
   "version": "2.7.12"
  }
 },
 "nbformat": 4,
 "nbformat_minor": 0
}
