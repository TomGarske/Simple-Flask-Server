{
 "cells": [
  {
   "cell_type": "markdown",
   "metadata": {},
   "source": [
    "# Table Creation Scripts"
   ]
  },
  {
   "cell_type": "code",
   "execution_count": 28,
   "metadata": {
    "collapsed": true
   },
   "outputs": [],
   "source": [
    "import sqlite3 as lite\n",
    "import sys"
   ]
  },
  {
   "cell_type": "code",
   "execution_count": 29,
   "metadata": {
    "collapsed": false
   },
   "outputs": [
    {
     "data": {
      "text/plain": [
       "u'Connected: None@csciAppDev.db'"
      ]
     },
     "execution_count": 29,
     "metadata": {},
     "output_type": "execute_result"
    }
   ],
   "source": [
    "%%capture\n",
    "%load_ext sql\n",
    "\n",
    "address = '127.0.0.1'\n",
    "user = 'myadmin'\n",
    "database = 'csciAppDev.db'\n",
    "\n",
    "%sql sqlite:///$database"
   ]
  },
  {
   "cell_type": "code",
   "execution_count": 43,
   "metadata": {
    "collapsed": false
   },
   "outputs": [
    {
     "name": "stdout",
     "output_type": "stream",
     "text": [
      "Done.\n",
      "Done.\n",
      "CPU times: user 3.03 ms, sys: 1.93 ms, total: 4.96 ms\n",
      "Wall time: 5.28 ms\n"
     ]
    },
    {
     "data": {
      "text/plain": [
       "[]"
      ]
     },
     "execution_count": 43,
     "metadata": {},
     "output_type": "execute_result"
    }
   ],
   "source": [
    "%%time\n",
    "%%sql\n",
    "--Development User Table\n",
    "DROP TABLE IF EXISTS users;\n",
    "CREATE TABLE users (id INTEGER PRIMARY KEY AUTOINCREMENT, \n",
    "                      title TEXT, \n",
    "                      description TEXT, \n",
    "                      done INTEGER);"
   ]
  },
  {
   "cell_type": "code",
   "execution_count": 22,
   "metadata": {
    "collapsed": false
   },
   "outputs": [
    {
     "name": "stdout",
     "output_type": "stream",
     "text": [
      "Done.\n"
     ]
    },
    {
     "data": {
      "text/html": [
       "<table>\n",
       "    <tr>\n",
       "        <th>name</th>\n",
       "        <th>rootpage</th>\n",
       "        <th>sql</th>\n",
       "    </tr>\n",
       "    <tr>\n",
       "        <td>sqlite_sequence</td>\n",
       "        <td>3</td>\n",
       "        <td>CREATE TABLE sqlite_sequence(name,seq)</td>\n",
       "    </tr>\n",
       "    <tr>\n",
       "        <td>users</td>\n",
       "        <td>2</td>\n",
       "        <td>CREATE TABLE users (id INTEGER PRIMARY KEY AUTOINCREMENT, <br>                      title TEXT, <br>                      description TEXT, <br>                      done INTEGER)</td>\n",
       "    </tr>\n",
       "</table>"
      ],
      "text/plain": [
       "[(u'sqlite_sequence', 3, u'CREATE TABLE sqlite_sequence(name,seq)'),\n",
       " (u'users', 2, u'CREATE TABLE users (id INTEGER PRIMARY KEY AUTOINCREMENT, \\n                      title TEXT, \\n                      description TEXT, \\n                      done INTEGER)')]"
      ]
     },
     "execution_count": 22,
     "metadata": {},
     "output_type": "execute_result"
    }
   ],
   "source": [
    "%sql SELECT name, rootpage, sql FROM sqlite_master WHERE type='table';"
   ]
  },
  {
   "cell_type": "code",
   "execution_count": 23,
   "metadata": {
    "collapsed": false
   },
   "outputs": [
    {
     "name": "stdout",
     "output_type": "stream",
     "text": [
      "2 rows affected.\n"
     ]
    },
    {
     "data": {
      "text/plain": [
       "[]"
      ]
     },
     "execution_count": 23,
     "metadata": {},
     "output_type": "execute_result"
    }
   ],
   "source": [
    "%%sql \n",
    "INSERT INTO users (title, description, done)\n",
    "VALUES ('dbBuy groceries', 'Milk, Cheese, Pizza, Fruit, Tylenol', 0 ),\n",
    "       ('dbLearn Python', 'Need to find a good Python tutorial on the web', 0 );"
   ]
  },
  {
   "cell_type": "code",
   "execution_count": 42,
   "metadata": {
    "collapsed": false
   },
   "outputs": [
    {
     "name": "stdout",
     "output_type": "stream",
     "text": [
      "Done.\n"
     ]
    },
    {
     "data": {
      "text/html": [
       "<table>\n",
       "    <tr>\n",
       "        <th>id</th>\n",
       "        <th>title</th>\n",
       "        <th>description</th>\n",
       "        <th>done</th>\n",
       "    </tr>\n",
       "    <tr>\n",
       "        <td>1</td>\n",
       "        <td>test</td>\n",
       "        <td>description</td>\n",
       "        <td>0</td>\n",
       "    </tr>\n",
       "    <tr>\n",
       "        <td>2</td>\n",
       "        <td>test1</td>\n",
       "        <td>description</td>\n",
       "        <td>0</td>\n",
       "    </tr>\n",
       "    <tr>\n",
       "        <td>3</td>\n",
       "        <td>test1</td>\n",
       "        <td>description</td>\n",
       "        <td>0</td>\n",
       "    </tr>\n",
       "</table>"
      ],
      "text/plain": [
       "[(1, u'test', u'description', 0),\n",
       " (2, u'test1', u'description', 0),\n",
       " (3, u'test1', u'description', 0)]"
      ]
     },
     "execution_count": 42,
     "metadata": {},
     "output_type": "execute_result"
    }
   ],
   "source": [
    "%sql select * from users"
   ]
  },
  {
   "cell_type": "markdown",
   "metadata": {
    "collapsed": true
   },
   "source": [
    "# Analyze accelerometer data for frequency"
   ]
  },
  {
   "cell_type": "code",
   "execution_count": 1,
   "metadata": {
    "collapsed": true
   },
   "outputs": [],
   "source": [
    "%matplotlib inline\n",
    "import numpy as np\n",
    "import pandas as pd\n",
    "import scipy.fftpack\n",
    "import matplotlib.pyplot as plt"
   ]
  },
  {
   "cell_type": "code",
   "execution_count": 53,
   "metadata": {
    "collapsed": true
   },
   "outputs": [],
   "source": [
    "### load dataset #x = load('filename.txt');\n",
    "datafile = \"accel_data.txt\" # sample data\n",
    "COLUMN_NAMES = [\"x\",\"y\",\"z\",\"t\"]\n",
    "df = pd.read_table(datafile, names=COLUMN_NAMES, header=None)"
   ]
  },
  {
   "cell_type": "code",
   "execution_count": 54,
   "metadata": {
    "collapsed": false
   },
   "outputs": [
    {
     "data": {
      "text/html": [
       "<div>\n",
       "<table border=\"1\" class=\"dataframe\">\n",
       "  <thead>\n",
       "    <tr style=\"text-align: right;\">\n",
       "      <th></th>\n",
       "      <th>x</th>\n",
       "      <th>y</th>\n",
       "      <th>z</th>\n",
       "      <th>t</th>\n",
       "    </tr>\n",
       "  </thead>\n",
       "  <tbody>\n",
       "    <tr>\n",
       "      <th>0</th>\n",
       "      <td>0.000000</td>\n",
       "      <td>0.000000</td>\n",
       "      <td>0.000000</td>\n",
       "      <td>0</td>\n",
       "    </tr>\n",
       "    <tr>\n",
       "      <th>1</th>\n",
       "      <td>-2.360084</td>\n",
       "      <td>2.965219</td>\n",
       "      <td>8.805275</td>\n",
       "      <td>214</td>\n",
       "    </tr>\n",
       "    <tr>\n",
       "      <th>2</th>\n",
       "      <td>-2.334945</td>\n",
       "      <td>2.749741</td>\n",
       "      <td>8.561067</td>\n",
       "      <td>151</td>\n",
       "    </tr>\n",
       "    <tr>\n",
       "      <th>3</th>\n",
       "      <td>-2.308609</td>\n",
       "      <td>2.903568</td>\n",
       "      <td>8.902839</td>\n",
       "      <td>179</td>\n",
       "    </tr>\n",
       "    <tr>\n",
       "      <th>4</th>\n",
       "      <td>-1.669357</td>\n",
       "      <td>2.478597</td>\n",
       "      <td>8.810662</td>\n",
       "      <td>187</td>\n",
       "    </tr>\n",
       "  </tbody>\n",
       "</table>\n",
       "</div>"
      ],
      "text/plain": [
       "          x         y         z    t\n",
       "0  0.000000  0.000000  0.000000    0\n",
       "1 -2.360084  2.965219  8.805275  214\n",
       "2 -2.334945  2.749741  8.561067  151\n",
       "3 -2.308609  2.903568  8.902839  179\n",
       "4 -1.669357  2.478597  8.810662  187"
      ]
     },
     "execution_count": 54,
     "metadata": {},
     "output_type": "execute_result"
    }
   ],
   "source": [
    "df.head()"
   ]
  },
  {
   "cell_type": "code",
   "execution_count": 52,
   "metadata": {
    "collapsed": false
   },
   "outputs": [
    {
     "data": {
      "image/png": "[encoded data removed]",
      "text/plain": [
       "<matplotlib.figure.Figure at 0x115121dd0>"
      ]
     },
     "metadata": {},
     "output_type": "display_data"
    }
   ],
   "source": [
    "fs = 1000.0/df[\"t\"].mean()\n",
    "x = np.array(df[\"x\"])\n",
    "\n",
    "NFFT=1024  #NFFT=1024;\n",
    "L = len(x) #L=length(x);\n",
    "\n",
    "X = scipy.fftpack.fft(x,NFFT); #X=fft(x,NFFT);\n",
    "Px = X.conj(X)/(NFFT*L) #Px=X.*conj(X)/(NFFT*L); %Power of each freq components\n",
    "\n",
    "fVals = fs*(np.array(range(0,NFFT/2))/2)/NFFT#fVals=fs*(0:NFFT/2-1)/NFFT;\n",
    "\n",
    "fig, ax = plt.subplots() #figure\n",
    "ax.plot(fVals,Px[0:NFFT/2])\n",
    "plt.ylabel('Frequency (Hz)')\n",
    "plt.xlabel('PSD')\n",
    "plt.title('One Sided Power Spectral Density')\n",
    "plt.show()"
   ]
  }
 ],
 "metadata": {
  "anaconda-cloud": {},
  "kernelspec": {
   "display_name": "Python [Root]",
   "language": "python",
   "name": "Python [Root]"
  },
  "language_info": {
   "codemirror_mode": {
    "name": "ipython",
    "version": 2
   },
   "file_extension": ".py",
   "mimetype": "text/x-python",
   "name": "python",
   "nbconvert_exporter": "python",
   "pygments_lexer": "ipython2",
   "version": "2.7.12"
  }
 },
 "nbformat": 4,
 "nbformat_minor": 0
}
